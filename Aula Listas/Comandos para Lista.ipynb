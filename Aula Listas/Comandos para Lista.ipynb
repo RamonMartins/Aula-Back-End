{
 "cells": [
  {
   "cell_type": "code",
   "execution_count": 46,
   "metadata": {},
   "outputs": [
    {
     "name": "stdout",
     "output_type": "stream",
     "text": [
      "['maça', 'banana', 'cereja']\n"
     ]
    }
   ],
   "source": [
    "# Inicio Lista\n",
    "\n",
    "umaLista = [\"maça\", \"banana\", \"cereja\"]\n",
    "print(umaLista)"
   ]
  },
  {
   "cell_type": "code",
   "execution_count": 47,
   "metadata": {},
   "outputs": [
    {
     "name": "stdout",
     "output_type": "stream",
     "text": [
      "['maça', 'banana', 'cereja', 'maça', 'cereja']\n"
     ]
    }
   ],
   "source": [
    "# Valores duplicados\n",
    "\n",
    "umaLista = [\"maça\", \"banana\", \"cereja\", \"maça\", \"cereja\"]\n",
    "print(umaLista)"
   ]
  },
  {
   "cell_type": "code",
   "execution_count": 48,
   "metadata": {},
   "outputs": [
    {
     "name": "stdout",
     "output_type": "stream",
     "text": [
      "3\n"
     ]
    }
   ],
   "source": [
    "# Comprimento da Lista\n",
    "\n",
    "umaLista = [\"maça\", \"banana\", \"cereja\"]\n",
    "print(len(umaLista))"
   ]
  },
  {
   "cell_type": "code",
   "execution_count": null,
   "metadata": {},
   "outputs": [],
   "source": [
    "# Tipos de dados\n",
    "\n",
    "lista1 = [\"maça\", \"banana\", \"cereja\"]\n",
    "lista2 = [1, 5, 7, 9, 3]\n",
    "lista3 = [True, False, False]\n",
    "\n",
    "print(lista1)\n",
    "print(lista2)\n",
    "print(lista3)"
   ]
  },
  {
   "cell_type": "code",
   "execution_count": null,
   "metadata": {},
   "outputs": [],
   "source": [
    "# Mais de um tipo de dado\n",
    "\n",
    "umaLista = [\"abc\", 34, True, 40, \"macho\"]\n",
    "print(umaLista)"
   ]
  },
  {
   "cell_type": "code",
   "execution_count": null,
   "metadata": {},
   "outputs": [],
   "source": [
    "# Tipo de dados de uma Lista\n",
    "\n",
    "umaLista = [\"maça\", \"banana\", \"cereja\"]\n",
    "print(type(umaLista))"
   ]
  },
  {
   "cell_type": "code",
   "execution_count": null,
   "metadata": {},
   "outputs": [],
   "source": [
    "# Usando o construtor 'list()'\n",
    "\n",
    "umaLista = list((\"maça\", \"banana\", \"cereja\"))\n",
    "print(umaLista) "
   ]
  },
  {
   "cell_type": "code",
   "execution_count": null,
   "metadata": {},
   "outputs": [],
   "source": [
    "# Usando o 'range'\n",
    "\n",
    "umaLista = list(range(10))\n",
    "print(umaLista)"
   ]
  },
  {
   "cell_type": "code",
   "execution_count": null,
   "metadata": {},
   "outputs": [],
   "source": [
    "# Acessar index da lista\n",
    "\n",
    "umaLista = [\"maça\", \"banana\", \"cereja\"]\n",
    "print(umaLista[1])"
   ]
  },
  {
   "cell_type": "code",
   "execution_count": null,
   "metadata": {},
   "outputs": [],
   "source": [
    "# Indexação negativa\n",
    "\n",
    "umaLista = [\"maça\", \"banana\", \"cereja\"]\n",
    "print(umaLista[-1])\n",
    "print(umaLista[-2])"
   ]
  },
  {
   "cell_type": "code",
   "execution_count": null,
   "metadata": {},
   "outputs": [],
   "source": [
    "# Intervalo de index\n",
    "\n",
    "umaLista = [\"maça\", \"banana\", \"cereja\", \"laranja\", \"kiwi\", \"melão\", \"manga\"]\n",
    "print(umaLista[2:5]) #vai de 2 ate 5, excluindo o 5"
   ]
  },
  {
   "cell_type": "code",
   "execution_count": null,
   "metadata": {},
   "outputs": [],
   "source": [
    "# Intervalo de index sem inicio\n",
    "\n",
    "umaLista = [\"maça\", \"banana\", \"cereja\", \"laranja\", \"kiwi\", \"melão\", \"manga\"]\n",
    "print(umaLista[:4])"
   ]
  },
  {
   "cell_type": "code",
   "execution_count": null,
   "metadata": {},
   "outputs": [],
   "source": [
    "# Intervalo de index sem final\n",
    "\n",
    "umaLista = [\"maça\", \"banana\", \"cereja\", \"laranja\", \"kiwi\", \"melão\", \"manga\"]\n",
    "print(umaLista[2:])"
   ]
  },
  {
   "cell_type": "code",
   "execution_count": null,
   "metadata": {},
   "outputs": [],
   "source": [
    "# Alterar valor de um item\n",
    "\n",
    "umaLista = [\"maça\", \"banana\", \"cereja\"]\n",
    "umaLista[1] = \"uva\"\n",
    "print(umaLista)"
   ]
  },
  {
   "cell_type": "code",
   "execution_count": null,
   "metadata": {},
   "outputs": [],
   "source": [
    "# Alterar um intervalo de valores de itens\n",
    "\n",
    "umaLista = [\"maça\", \"banana\", \"cereja\", \"laranja\", \"kiwi\", \"melão\"]\n",
    "umaLista[1:3] = [\"uva\", \"melancia\"]\n",
    "print(umaLista)"
   ]
  },
  {
   "cell_type": "code",
   "execution_count": null,
   "metadata": {},
   "outputs": [],
   "source": [
    "# Se você inserir mais itens do que substituir, os novos itens serão\n",
    "# inseridos onde você especificou e os itens restantes serão movidos de acordo\n",
    "\n",
    "umaLista = [\"maça\", \"banana\", \"cereja\"]\n",
    "umaLista[1:2] = [\"uva\", \"melancia\"]\n",
    "print(umaLista)"
   ]
  },
  {
   "cell_type": "code",
   "execution_count": 63,
   "metadata": {},
   "outputs": [
    {
     "name": "stdout",
     "output_type": "stream",
     "text": [
      "['maça', 'melancia']\n"
     ]
    }
   ],
   "source": [
    "# O comprimento da lista mudará quando o número de itens inseridos não \n",
    "# corresponder ao número de itens substituídos\n",
    "\n",
    "umaLista = [\"maça\", \"banana\", \"cereja\"]\n",
    "umaLista[1:3] = [\"melancia\"]\n",
    "print(umaLista)"
   ]
  },
  {
   "cell_type": "code",
   "execution_count": 64,
   "metadata": {},
   "outputs": [
    {
     "name": "stdout",
     "output_type": "stream",
     "text": [
      "['maça', 'banana', 'cereja', 'laranja']\n"
     ]
    }
   ],
   "source": [
    "# Acrescentar itens\n",
    "\n",
    "umaLista = [\"maça\", \"banana\", \"cereja\"]\n",
    "umaLista.append(\"laranja\")\n",
    "print(umaLista)"
   ]
  },
  {
   "cell_type": "code",
   "execution_count": null,
   "metadata": {},
   "outputs": [],
   "source": [
    "# Inserir itens\n",
    "\n",
    "umaLista = [\"maça\", \"banana\", \"cereja\"]\n",
    "umaLista.insert(1, \"laranja\")\n",
    "print(umaLista)"
   ]
  },
  {
   "cell_type": "code",
   "execution_count": null,
   "metadata": {},
   "outputs": [],
   "source": [
    "# Estender Lista\n",
    "\n",
    "umaLista = [\"maça\", \"banana\", \"cereja\"]\n",
    "tropicais = [\"manga\", \"abacaxi\", \"mamão\"]\n",
    "umaLista.extend(tropicais)\n",
    "print(umaLista) "
   ]
  },
  {
   "cell_type": "code",
   "execution_count": null,
   "metadata": {},
   "outputs": [],
   "source": [
    "# Remover item especificado\n",
    "\n",
    "umaLista = [\"maça\", \"banana\", \"cereja\"]\n",
    "umaLista.remove(\"banana\")\n",
    "print(umaLista)"
   ]
  },
  {
   "cell_type": "code",
   "execution_count": 71,
   "metadata": {},
   "outputs": [
    {
     "name": "stdout",
     "output_type": "stream",
     "text": [
      "['maça', 'cereja']\n"
     ]
    }
   ],
   "source": [
    "# Remover índice especificado\n",
    "\n",
    "umaLista = [\"maça\", \"banana\", \"cereja\"]\n",
    "umaLista.pop(1)\n",
    "print(umaLista)"
   ]
  },
  {
   "cell_type": "code",
   "execution_count": null,
   "metadata": {},
   "outputs": [],
   "source": [
    "# Se você não especificar o índice, o método pop() remove o último item\n",
    "\n",
    "umaLista = [\"maça\", \"banana\", \"cereja\"]\n",
    "umaLista.pop()\n",
    "print(umaLista)"
   ]
  },
  {
   "cell_type": "code",
   "execution_count": 74,
   "metadata": {},
   "outputs": [
    {
     "name": "stdout",
     "output_type": "stream",
     "text": [
      "['maça', 'banana', 'cereja']\n",
      "[]\n"
     ]
    }
   ],
   "source": [
    "# Limpar a lista\n",
    "\n",
    "umaLista = [\"maça\", \"banana\", \"cereja\"]\n",
    "print(umaLista)\n",
    "umaLista.clear()\n",
    "print(umaLista)"
   ]
  },
  {
   "cell_type": "code",
   "execution_count": 78,
   "metadata": {},
   "outputs": [
    {
     "name": "stdout",
     "output_type": "stream",
     "text": [
      "maça\n",
      "banana\n",
      "cereja\n"
     ]
    }
   ],
   "source": [
    "# Percorrer uma lista\n",
    "\n",
    "umaLista = [\"maça\", \"banana\", \"cereja\"]\n",
    "for x in umaLista:\n",
    "  print(x)"
   ]
  },
  {
   "cell_type": "code",
   "execution_count": 80,
   "metadata": {},
   "outputs": [
    {
     "name": "stdout",
     "output_type": "stream",
     "text": [
      "maça\n",
      "banana\n"
     ]
    }
   ],
   "source": [
    "# Percorra os números de índice\n",
    "\n",
    "umaLista = [\"maça\", \"banana\", \"cereja\"]\n",
    "for i in range(0, 2):\n",
    "  print(umaLista[i])"
   ]
  },
  {
   "cell_type": "code",
   "execution_count": null,
   "metadata": {},
   "outputs": [],
   "source": [
    "# Criando nova lista a partir de outra lista\n",
    "\n",
    "umaLista = [\"maça\", \"banana\", \"cereja\", \"laranja\", \"kiwi\", \"melão\"]\n",
    "novaLista = []\n",
    "\n",
    "for x in umaLista:\n",
    "  if \"a\" in x:\n",
    "    novaLista.append(x)\n",
    "\n",
    "print(novaLista)"
   ]
  },
  {
   "cell_type": "code",
   "execution_count": null,
   "metadata": {},
   "outputs": [],
   "source": [
    "# Ordenar Lista Alfanumericamente\n",
    "\n",
    "umaLista = [\"maça\", \"banana\", \"cereja\", \"laranja\", \"kiwi\", \"melão\"]\n",
    "umaLista.sort()\n",
    "print(umaLista)\n",
    "\n",
    "outraLista = [100, 50, 65, 82, 23]\n",
    "outraLista.sort()\n",
    "print(outraLista)"
   ]
  },
  {
   "cell_type": "code",
   "execution_count": null,
   "metadata": {},
   "outputs": [],
   "source": [
    "# Ordenar Descendente\n",
    "\n",
    "umaLista = [\"maça\", \"banana\", \"cereja\", \"laranja\", \"kiwi\", \"melão\"]\n",
    "umaLista.sort(reverse = True)\n",
    "print(umaLista)\n",
    "\n",
    "outraLista = [100, 50, 65, 82, 23]\n",
    "outraLista.sort(reverse = True)\n",
    "print(outraLista)"
   ]
  },
  {
   "cell_type": "code",
   "execution_count": null,
   "metadata": {},
   "outputs": [],
   "source": [
    "# Classificação sem distinção entre maiúsculas e minúsculas\n",
    "\n",
    "umaLista = [\"banana\", \"Laranja\", \"Kiwi\", \"cereja\"]\n",
    "print(umaLista)\n",
    "umaLista.sort(key = str.lower)\n",
    "print(umaLista) "
   ]
  },
  {
   "cell_type": "code",
   "execution_count": null,
   "metadata": {},
   "outputs": [],
   "source": [
    "# Ordem reversa\n",
    "\n",
    "umaLista = [\"banana\", \"laranja\", \"kiwi\", \"cereja\"]\n",
    "umaLista.reverse()\n",
    "print(umaLista)"
   ]
  },
  {
   "cell_type": "code",
   "execution_count": null,
   "metadata": {},
   "outputs": [],
   "source": [
    "# Copiar uma lista\n",
    "\n",
    "umaLista = [\"maça\", \"banana\", \"cereja\"]\n",
    "novaLista = umaLista.copy()\n",
    "print(novaLista)"
   ]
  },
  {
   "cell_type": "code",
   "execution_count": null,
   "metadata": {},
   "outputs": [],
   "source": []
  }
 ],
 "metadata": {
  "kernelspec": {
   "display_name": "Python 3",
   "language": "python",
   "name": "python3"
  },
  "language_info": {
   "codemirror_mode": {
    "name": "ipython",
    "version": 3
   },
   "file_extension": ".py",
   "mimetype": "text/x-python",
   "name": "python",
   "nbconvert_exporter": "python",
   "pygments_lexer": "ipython3",
   "version": "3.11.2"
  },
  "orig_nbformat": 4
 },
 "nbformat": 4,
 "nbformat_minor": 2
}
