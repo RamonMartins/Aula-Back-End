{
 "cells": [
  {
   "cell_type": "code",
   "execution_count": null,
   "metadata": {},
   "outputs": [],
   "source": [
    "# Início Sets\n",
    "    # Não ordenável, não mutável e não indexável\n",
    "\n",
    "umSet = {\"maça\", \"banana\", \"cereja\"}\n",
    "print(umSet) "
   ]
  },
  {
   "cell_type": "code",
   "execution_count": null,
   "metadata": {},
   "outputs": [],
   "source": [
    "# Sets não pode ser alterado\n",
    "\n",
    "umSet = {\"maça\", \"banana\", \"cereja\"}\n",
    "umSet{1} = \"oi\"\n",
    "print(umSet)"
   ]
  },
  {
   "cell_type": "code",
   "execution_count": null,
   "metadata": {},
   "outputs": [],
   "source": [
    "# Sets não aceita valores duplicados\n",
    "\n",
    "umSet = {\"maça\", \"banana\", \"cereja\", \"banana\"}\n",
    "print(umSet) "
   ]
  },
  {
   "cell_type": "code",
   "execution_count": null,
   "metadata": {},
   "outputs": [],
   "source": [
    "# Sets não aceita valores duplicados #2\n",
    "\n",
    "umSet = {\"maça\", \"banana\", \"cereja\", \"banana\", True, 1, 2}\n",
    "print(umSet)"
   ]
  },
  {
   "cell_type": "code",
   "execution_count": null,
   "metadata": {},
   "outputs": [],
   "source": [
    "# Sets não aceita ordenação\n",
    "\n",
    "umSet = {\"maça\", \"banana\", \"cereja\"}\n",
    "umSet.sort()\n",
    "print(umSet) "
   ]
  },
  {
   "cell_type": "code",
   "execution_count": null,
   "metadata": {},
   "outputs": [],
   "source": [
    "# Comprimento de um Set\n",
    "\n",
    "umSet = {\"maça\", \"banana\", \"cereja\"}\n",
    "print(len(umSet)) "
   ]
  },
  {
   "cell_type": "code",
   "execution_count": null,
   "metadata": {},
   "outputs": [],
   "source": [
    "# Varios tipos de dados\n",
    "\n",
    "set1 = {\"apple\", \"banana\", \"cherry\"}\n",
    "set2 = {1, 5, 7, 9, 3}\n",
    "set3 = {True, False, False}\n",
    "\n",
    "print(set1)\n",
    "print(set2)\n",
    "print(set3)"
   ]
  },
  {
   "cell_type": "code",
   "execution_count": null,
   "metadata": {},
   "outputs": [],
   "source": [
    "# Tipo de Conjunto de dados\n",
    "\n",
    "umSet = {\"maça\", \"banana\", \"cereja\"}\n",
    "print(type(umSet))"
   ]
  },
  {
   "cell_type": "code",
   "execution_count": null,
   "metadata": {},
   "outputs": [],
   "source": [
    "# Construtor set()\n",
    "\n",
    "umSet = set((\"maça\", \"banana\", \"cereja\"))\n",
    "print(umSet)"
   ]
  },
  {
   "cell_type": "code",
   "execution_count": null,
   "metadata": {},
   "outputs": [],
   "source": [
    "# Acessar um Set\n",
    "\n",
    "umSet = {\"maça\", \"banana\", \"cereja\"}\n",
    "\n",
    "for x in umSet:\n",
    "  print(x) "
   ]
  },
  {
   "cell_type": "code",
   "execution_count": null,
   "metadata": {},
   "outputs": [],
   "source": [
    "# Acessar um Set #2\n",
    "\n",
    "umSet = {\"maça\", \"banana\", \"cereja\"}\n",
    "\n",
    "print(\"banana\" in umSet) "
   ]
  },
  {
   "cell_type": "code",
   "execution_count": null,
   "metadata": {},
   "outputs": [],
   "source": [
    "# Adicionar itens a um Set\n",
    "\n",
    "umSet = {\"maça\", \"banana\", \"cereja\"}\n",
    "umSet.add(\"laranja\")\n",
    "print(umSet)"
   ]
  },
  {
   "cell_type": "code",
   "execution_count": null,
   "metadata": {},
   "outputs": [],
   "source": [
    "# Adicionar Sets a um Set\n",
    "\n",
    "umSet = {\"maça\", \"banana\", \"cereja\"}\n",
    "tropicais = {\"manga\", \"abacaxi\", \"mamão\"}\n",
    "umSet.update(tropicais)\n",
    "print(umSet)"
   ]
  },
  {
   "cell_type": "code",
   "execution_count": null,
   "metadata": {},
   "outputs": [],
   "source": [
    "# Adicionar qualquer interável a um Set\n",
    "\n",
    "umSet = {\"maça\", \"banana\", \"cereja\"}\n",
    "tropicais = [\"manga\", \"abacaxi\", \"mamão\"]\n",
    "umSet.update(tropicais)\n",
    "print(umSet)"
   ]
  },
  {
   "cell_type": "code",
   "execution_count": null,
   "metadata": {},
   "outputs": [],
   "source": [
    "# Remover um item\n",
    "\n",
    "umSet = {\"maça\", \"banana\", \"cereja\"}\n",
    "umSet.remove(\"maça\")\n",
    "print(umSet)"
   ]
  },
  {
   "cell_type": "code",
   "execution_count": null,
   "metadata": {},
   "outputs": [],
   "source": [
    "# Remover um item discard()\n",
    "\n",
    "umSet = {\"maça\", \"banana\", \"cereja\"}\n",
    "umSet.discard(\"maça\")\n",
    "print(umSet)"
   ]
  },
  {
   "cell_type": "code",
   "execution_count": null,
   "metadata": {},
   "outputs": [],
   "source": [
    "# Remover um item pop()\n",
    "\n",
    "umSet = {\"maça\", \"banana\", \"cereja\"}\n",
    "x = umSet.pop()\n",
    "print(x)\n",
    "print(umSet)"
   ]
  },
  {
   "cell_type": "code",
   "execution_count": null,
   "metadata": {},
   "outputs": [],
   "source": [
    "# Limpar um Set\n",
    "\n",
    "umSet = {\"maça\", \"banana\", \"cereja\"}\n",
    "print(umSet)\n",
    "umSet.clear()\n",
    "print(umSet)"
   ]
  }
 ],
 "metadata": {
  "kernelspec": {
   "display_name": "Python 3",
   "language": "python",
   "name": "python3"
  },
  "language_info": {
   "codemirror_mode": {
    "name": "ipython",
    "version": 3
   },
   "file_extension": ".py",
   "mimetype": "text/x-python",
   "name": "python",
   "nbconvert_exporter": "python",
   "pygments_lexer": "ipython3",
   "version": "3.11.2"
  },
  "orig_nbformat": 4
 },
 "nbformat": 4,
 "nbformat_minor": 2
}
