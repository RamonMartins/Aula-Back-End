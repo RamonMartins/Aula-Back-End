{
 "cells": [
  {
   "cell_type": "code",
   "execution_count": 17,
   "metadata": {},
   "outputs": [
    {
     "name": "stdout",
     "output_type": "stream",
     "text": [
      "{'marca': 'Ford', 'modelo': 'Mustang', 'ano': 1964}\n"
     ]
    }
   ],
   "source": [
    "# Início Dicionários\n",
    "    # Ordenável, mutável e não indexável\n",
    "    # Os dicionários são usados para armazenar valores de dados em pares 'chave:valor'\n",
    "\n",
    "umDicio =\t{\n",
    "  \"marca\": \"Ford\",\n",
    "  \"modelo\": \"Mustang\",\n",
    "  \"ano\": 1964\n",
    "}\n",
    "print(umDicio)"
   ]
  },
  {
   "cell_type": "code",
   "execution_count": null,
   "metadata": {},
   "outputs": [],
   "source": [
    "# Não permite valores duplicados\n",
    "\n",
    "umDicio =\t{\n",
    "  \"marca\": \"Ford\",\n",
    "  \"modelo\": \"Mustang\",\n",
    "  \"ano\": 1964,\n",
    "  \"marca\": \"Fiat\",\n",
    "}\n",
    "print(umDicio)"
   ]
  },
  {
   "cell_type": "code",
   "execution_count": null,
   "metadata": {},
   "outputs": [],
   "source": [
    "# Comprimento de um dicionario\n",
    "\n",
    "umDicio =\t{\n",
    "  \"marca\": \"Ford\",\n",
    "  \"modelo\": \"Mustang\",\n",
    "  \"ano\": 1964,\n",
    "  \"marca\": \"Fiat\",\n",
    "}\n",
    "print(len(umDicio))"
   ]
  },
  {
   "cell_type": "code",
   "execution_count": null,
   "metadata": {},
   "outputs": [],
   "source": [
    "# Tipos de dados aceitos\n",
    "\n",
    "umDicio =\t{\n",
    "  \"marca\": \"Ford\",\n",
    "  \"elétrico\": False,\n",
    "  \"ano\": 1964,\n",
    "  \"cores\": [\"vermelho\", \"branco\", \"azul\"]\n",
    "}\n",
    "\n",
    "print(umDicio)"
   ]
  },
  {
   "cell_type": "code",
   "execution_count": null,
   "metadata": {},
   "outputs": [],
   "source": [
    "# Tipo de conjunto de dado\n",
    "\n",
    "umDicio =\t{\n",
    "  \"marca\": \"Ford\",\n",
    "  \"modelo\": \"Mustang\",\n",
    "  \"ano\": 1964\n",
    "}\n",
    "print(type(umDicio))"
   ]
  },
  {
   "cell_type": "code",
   "execution_count": null,
   "metadata": {},
   "outputs": [],
   "source": [
    "# Usando o Construtor dict()\n",
    "\n",
    "umDicio = dict(nome = \"Raquel\", idade = 36, país = \"Brasil\")\n",
    "print(umDicio)"
   ]
  },
  {
   "cell_type": "code",
   "execution_count": null,
   "metadata": {},
   "outputs": [],
   "source": [
    "# Acessando um dicionário\n",
    "\n",
    "umDicio =\t{\n",
    "  \"marca\": \"Ford\",\n",
    "  \"modelo\": \"Mustang\",\n",
    "  \"ano\": 1964\n",
    "}\n",
    "x = umDicio[\"marca\"]\n",
    "print(x)"
   ]
  },
  {
   "cell_type": "code",
   "execution_count": null,
   "metadata": {},
   "outputs": [],
   "source": [
    "# Pegar as Chaves\n",
    "\n",
    "umDicio =\t{\n",
    "  \"marca\": \"Ford\",\n",
    "  \"modelo\": \"Mustang\",\n",
    "  \"ano\": 1964\n",
    "}\n",
    "x = umDicio.keys()\n",
    "print(x)"
   ]
  },
  {
   "cell_type": "code",
   "execution_count": null,
   "metadata": {},
   "outputs": [],
   "source": [
    "# Pegar os valores\n",
    "\n",
    "umDicio =\t{\n",
    "  \"marca\": \"Ford\",\n",
    "  \"modelo\": \"Mustang\",\n",
    "  \"ano\": 1964\n",
    "}\n",
    "x = umDicio.values()\n",
    "print(x)"
   ]
  },
  {
   "cell_type": "code",
   "execution_count": null,
   "metadata": {},
   "outputs": [],
   "source": [
    "# Adicionando item ao dicionario\n",
    "\n",
    "umDicio = {\n",
    "  \"marca\": \"Ford\",\n",
    "  \"modelo\": \"Mustang\",\n",
    "  \"ano\": 1964\n",
    "}\n",
    "\n",
    "x = umDicio.keys()\n",
    "y = umDicio.values()\n",
    "\n",
    "print(x)\n",
    "print(y)\n",
    "\n",
    "umDicio[\"cor\"] = \"branco\"\n",
    "\n",
    "print(x)\n",
    "print(y)"
   ]
  },
  {
   "cell_type": "code",
   "execution_count": null,
   "metadata": {},
   "outputs": [],
   "source": [
    "# Ver cada item do dicionario\n",
    "\n",
    "umDicio = {\n",
    "  \"marca\": \"Ford\",\n",
    "  \"modelo\": \"Mustang\",\n",
    "  \"ano\": 1964\n",
    "}\n",
    "x = umDicio.items() \n",
    "print(x)"
   ]
  },
  {
   "cell_type": "code",
   "execution_count": 19,
   "metadata": {},
   "outputs": [],
   "source": [
    "# Verificar se a chave existe\n",
    "\n",
    "umDicio = {\n",
    "  \"marca\": \"Ford\",\n",
    "  \"modelo\": \"Mustang\",\n",
    "  \"ano\": 1964\n",
    "}\n",
    "if \"modelo\" in umDicio:\n",
    "  print(\"Sim, 'modelo' é uma das chaves no dicionário\") "
   ]
  },
  {
   "cell_type": "code",
   "execution_count": null,
   "metadata": {},
   "outputs": [],
   "source": [
    "# Atualizando um item\n",
    "\n",
    "umDicio = {\n",
    "  \"marca\": \"Ford\",\n",
    "  \"modelo\": \"Mustang\",\n",
    "  \"ano\": 1964\n",
    "}\n",
    "umDicio[\"ano\"] = 2018\n",
    "print(umDicio)"
   ]
  },
  {
   "cell_type": "code",
   "execution_count": null,
   "metadata": {},
   "outputs": [],
   "source": [
    "# Remover um item\n",
    "\n",
    "umDicio = {\n",
    "  \"marca\": \"Ford\",\n",
    "  \"modelo\": \"Mustang\",\n",
    "  \"ano\": 1964\n",
    "}\n",
    "umDicio.pop(\"modelo\")\n",
    "print(umDicio)"
   ]
  }
 ],
 "metadata": {
  "kernelspec": {
   "display_name": "Python 3",
   "language": "python",
   "name": "python3"
  },
  "language_info": {
   "codemirror_mode": {
    "name": "ipython",
    "version": 3
   },
   "file_extension": ".py",
   "mimetype": "text/x-python",
   "name": "python",
   "nbconvert_exporter": "python",
   "pygments_lexer": "ipython3",
   "version": "3.11.2"
  },
  "orig_nbformat": 4
 },
 "nbformat": 4,
 "nbformat_minor": 2
}
