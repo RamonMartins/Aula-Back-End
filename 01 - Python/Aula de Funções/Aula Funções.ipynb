{
 "cells": [
  {
   "cell_type": "code",
   "execution_count": null,
   "metadata": {},
   "outputs": [],
   "source": [
    "# Uma função é um bloco de código que só é executado quando é chamado.\n",
    "# Você pode passar dados, conhecidos como parâmetros, para uma função.\n",
    "# Uma função pode retornar dados como resultado.\n",
    "# Em Python, uma função é definida usando a palavra-chave def"
   ]
  },
  {
   "cell_type": "code",
   "execution_count": 28,
   "metadata": {},
   "outputs": [],
   "source": [
    "# Iniciando uma função\n",
    "\n",
    "def minha_função():\n",
    "  print(\"Olá Brasil!\")\n"
   ]
  },
  {
   "cell_type": "code",
   "execution_count": null,
   "metadata": {},
   "outputs": [],
   "source": [
    "# Chamando uma função\n",
    "a = 0\n",
    "\n",
    "def minha_função():\n",
    "  print(\"Olá Brasil!\")\n",
    "  global a\n",
    "  a += 1\n",
    "\n",
    "minha_função()\n",
    "minha_função()\n",
    "print(\"hey\")\n",
    "minha_função()\n",
    "print(a)"
   ]
  },
  {
   "cell_type": "code",
   "execution_count": null,
   "metadata": {},
   "outputs": [],
   "source": [
    "# As informações podem ser passadas para funções como argumentos.\n",
    "# Os argumentos são especificados após o nome da função, dentro dos parênteses.\n",
    "# Você pode adicionar quantos argumentos quiser, basta separá-los com uma vírgula."
   ]
  },
  {
   "cell_type": "code",
   "execution_count": null,
   "metadata": {},
   "outputs": [],
   "source": [
    "# Passando um argumento\n",
    "\n",
    "def minha_função(pri_nome):\n",
    "  print(pri_nome + \" Ferreira\")\n",
    "\n",
    "minha_função(\"Raquel\")\n",
    "minha_função(\"João\")\n",
    "minha_função(\"Lucas\") "
   ]
  },
  {
   "cell_type": "code",
   "execution_count": null,
   "metadata": {},
   "outputs": [],
   "source": [
    "# Os termos parâmetro e argumento podem ser usados para a mesma coisa:\n",
    "#   informações que são passadas para uma função.\n",
    "# Do ponto de vista de uma função:\n",
    "# Um parâmetro é a variável listada entre parênteses na definição da função.\n",
    "# Um argumento é o valor que é enviado para a função quando ela é chamada."
   ]
  },
  {
   "cell_type": "code",
   "execution_count": null,
   "metadata": {},
   "outputs": [],
   "source": [
    "# Múltiplos argumentos\n",
    "\n",
    "def minha_função(pri_nome, ult_nome):\n",
    "  print(pri_nome + \" \" + ult_nome)\n",
    "\n",
    "minha_função(\"Ferreira\", \"Raquel\")"
   ]
  },
  {
   "cell_type": "code",
   "execution_count": null,
   "metadata": {},
   "outputs": [],
   "source": [
    "def minha_função(pri_nome, ult_nome):\n",
    "  print(pri_nome + \" \" + ult_nome)\n",
    "\n",
    "minha_função(\"Raquel\")"
   ]
  },
  {
   "cell_type": "code",
   "execution_count": null,
   "metadata": {},
   "outputs": [],
   "source": [
    "# Argumentos arbitrários, *args\n",
    "# Se você não souber quantos argumentos serão passados para sua função,\n",
    "#   adicione um * antes do nome do parâmetro na definição da função.\n",
    "# Desta forma a função receberá uma tupla de argumentos, podendo acessar os itens de acordo"
   ]
  },
  {
   "cell_type": "code",
   "execution_count": null,
   "metadata": {},
   "outputs": [],
   "source": [
    "# Quantidade de argumentos desconhecida\n",
    "\n",
    "def minha_função(*crianças):\n",
    "  print(\"A criança mais nova é \" + crianças[2])\n",
    "\n",
    "minha_função(\"Raquel\", \"João\", \"Lucas\")"
   ]
  },
  {
   "cell_type": "code",
   "execution_count": null,
   "metadata": {},
   "outputs": [],
   "source": [
    "# Você também pode enviar argumentos com a sintaxe chave = valor.\n",
    "# Desta forma, a ordem dos argumentos não importa."
   ]
  },
  {
   "cell_type": "code",
   "execution_count": null,
   "metadata": {},
   "outputs": [],
   "source": [
    "def minha_função(criança3, criança2, criança1):\n",
    "  print(\"A criança mais nova é \" + criança3)\n",
    "\n",
    "minha_função(criança1 = \"João\", criança2 = \"Raquel\", criança3 = \"Lucas\")"
   ]
  },
  {
   "cell_type": "code",
   "execution_count": null,
   "metadata": {},
   "outputs": [],
   "source": [
    "# Se você não souber quantos argumentos de palavra-chave serão passados para sua\n",
    "#   função, adicione dois asteriscos: ** antes do nome do parâmetro na definição da função.\n",
    "# Desta forma a função receberá um dicionário de argumentos, podendo acessar os itens de acordo"
   ]
  },
  {
   "cell_type": "code",
   "execution_count": null,
   "metadata": {},
   "outputs": [],
   "source": [
    "def minha_função(**criança):\n",
    "  print(\"O último nome dele é \" + criança[\"ult_nome\"])\n",
    "\n",
    "minha_função(pri_nome = \"João\", ult_nome = \"Ferreira\") "
   ]
  },
  {
   "cell_type": "code",
   "execution_count": null,
   "metadata": {},
   "outputs": [],
   "source": [
    "# Valor padrão do parâmetro\n",
    "\n",
    "def minha_função(pais = \"Japão\"):\n",
    "  print(\"Eu sou do \" + pais)\n",
    "\n",
    "minha_função(\"Chile\")\n",
    "minha_função()\n",
    "minha_função(\"Uruguai\")\n",
    "minha_função()\n",
    "minha_função(\"Brasil\") "
   ]
  },
  {
   "cell_type": "code",
   "execution_count": null,
   "metadata": {},
   "outputs": [],
   "source": [
    "# Passando uma lista como um argumento\n",
    "\n",
    "def minha_função(comida):\n",
    "  for x in comida:\n",
    "    print(x)\n",
    "\n",
    "frutas = [\"maça\", \"banana\", \"cereja\"]\n",
    "minha_função(frutas)"
   ]
  },
  {
   "cell_type": "code",
   "execution_count": null,
   "metadata": {},
   "outputs": [],
   "source": [
    "# Retornar Valores\n",
    "\n",
    "def minha_função(x):\n",
    "  return 5 * x\n",
    "\n",
    "print(minha_função(3))\n",
    "print(minha_função(5))\n",
    "print(minha_função(9)) "
   ]
  }
 ],
 "metadata": {
  "kernelspec": {
   "display_name": "Python 3",
   "language": "python",
   "name": "python3"
  },
  "language_info": {
   "codemirror_mode": {
    "name": "ipython",
    "version": 3
   },
   "file_extension": ".py",
   "mimetype": "text/x-python",
   "name": "python",
   "nbconvert_exporter": "python",
   "pygments_lexer": "ipython3",
   "version": "3.11.2"
  },
  "orig_nbformat": 4
 },
 "nbformat": 4,
 "nbformat_minor": 2
}
