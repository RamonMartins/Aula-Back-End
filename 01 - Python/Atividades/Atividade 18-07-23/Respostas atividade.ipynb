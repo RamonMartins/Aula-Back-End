{
 "cells": [
  {
   "cell_type": "code",
   "execution_count": null,
   "metadata": {},
   "outputs": [],
   "source": [
    "# 1\n",
    "\n",
    "valor1 = 30\n",
    "valor2 = 25\n",
    "valor3 = 40\n",
    "\n",
    "print(f\"A soma dos 3 números é de: {valor1+valor2+valor3}\")\n",
    "\n",
    "if valor1 > valor2 and valor1 > valor3:\n",
    "  print(f\"{valor1} é o maior valor\")\n",
    "elif valor2 > valor1 and valor2 > valor3:\n",
    "  print(f\"{valor2} é o maior valor\")\n",
    "elif valor3 > valor1 and valor3 > valor2:\n",
    "  print(f\"{valor3} é o maior valor\")\n",
    "else:\n",
    "  print(\"Existem número iguais\")"
   ]
  },
  {
   "cell_type": "code",
   "execution_count": null,
   "metadata": {},
   "outputs": [],
   "source": [
    "# 2\n",
    "\n",
    "pais = input(\"Digite o pais(Brasil ou Espanha): \")\n",
    "time = input(\"Digite o time: \")\n",
    "modelo = input(\"Digite o modelo: \")\n",
    "\n",
    "if pais == \"brasil\":\n",
    "  if time == \"flamengo\":\n",
    "    if modelo == \"modelo 1\":\n",
    "      print(\"A camisa modelo 1, do Flamengo - BR, custa R$ 299,88\")\n",
    "    elif modelo == \"modelo 2\":\n",
    "      print(\"A camisa modelo 2, do Flamengo - BR, custa R$ 279,88\")\n",
    "    else:\n",
    "      print(\"Modelo errado\")\n",
    "\n",
    "  elif time == \"palmeiras\":\n",
    "    if modelo == \"modelo 1\":\n",
    "      print(\"A camisa modelo 1, do Palmeiras - BR, custa R$ 179,88\")\n",
    "    elif modelo == \"modelo 2\":\n",
    "      print(\"A camisa modelo 2, do Palmeiras - BR, custa R$ 159,88\")\n",
    "    else:\n",
    "      print(\"Modelo errado\")\n",
    "  else:\n",
    "    print(\"Time errado\")\n",
    "\n",
    "elif pais == \"espanha\":\n",
    "  if time == \"barcelona\":\n",
    "    if modelo == \"modelo 1\":\n",
    "      print(\"A camisa modelo 1, do Barcelona - BR, custa R$ 399,88\")\n",
    "    elif modelo == \"modelo 2\":\n",
    "      print(\"A camisa modelo 2, do Barcelona - BR, custa R$ 379,88\")\n",
    "    else:\n",
    "      print(\"Modelo errado\")\n",
    "\n",
    "  elif time == \"real madrid\":\n",
    "    if modelo == \"modelo 1\":\n",
    "      print(\"A camisa modelo 1, do Real Madrid - BR, custa R$ 279,88\")\n",
    "    elif modelo == \"modelo 2\":\n",
    "      print(\"A camisa modelo 2, do Real Madrid - BR, custa R$ 259,88\")\n",
    "    else:\n",
    "      print(\"Modelo errado\")\n",
    "  else:\n",
    "    print(\"Time errado\")\n",
    "\n",
    "else:\n",
    "  print(\"País errado\")"
   ]
  },
  {
   "cell_type": "code",
   "execution_count": null,
   "metadata": {},
   "outputs": [],
   "source": [
    "# 3\n",
    "\n",
    "for x in range(1, 11):\n",
    "  print(f\"Tabuada do {x}\")\n",
    "  for y in range(0, 11):\n",
    "    print(f\"{x} x {y} = {x*y}\")"
   ]
  },
  {
   "cell_type": "code",
   "execution_count": null,
   "metadata": {},
   "outputs": [],
   "source": [
    "# 4\n",
    "\n",
    "lista_nomes = []\n",
    "\n",
    "while True:\n",
    "  nome = input(\"Digite o nome: \")\n",
    "  if nome == \"sair\":\n",
    "    break\n",
    "  else:\n",
    "    lista_nomes.append(nome)\n",
    "\n",
    "print(f\"Lista de nomes: {lista_nomes}\")"
   ]
  }
 ],
 "metadata": {
  "kernelspec": {
   "display_name": "Python 3",
   "language": "python",
   "name": "python3"
  },
  "language_info": {
   "codemirror_mode": {
    "name": "ipython",
    "version": 3
   },
   "file_extension": ".py",
   "mimetype": "text/x-python",
   "name": "python",
   "nbconvert_exporter": "python",
   "pygments_lexer": "ipython3",
   "version": "3.11.2"
  },
  "orig_nbformat": 4
 },
 "nbformat": 4,
 "nbformat_minor": 2
}
