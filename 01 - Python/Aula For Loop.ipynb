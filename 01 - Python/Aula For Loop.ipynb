{
 "cells": [
  {
   "cell_type": "code",
   "execution_count": null,
   "metadata": {},
   "outputs": [],
   "source": [
    "#print lista\n",
    "\n",
    "frutas = [\"maça\", \"uva\", \"melancia\"]\n",
    "\n",
    "for x in frutas:\n",
    "  print(x)\n"
   ]
  },
  {
   "cell_type": "code",
   "execution_count": null,
   "metadata": {},
   "outputs": [],
   "source": [
    "#loop através\n",
    "\n",
    "for x in \"melancia\":\n",
    "  print(x)"
   ]
  },
  {
   "cell_type": "code",
   "execution_count": null,
   "metadata": {},
   "outputs": [],
   "source": [
    "#break\n",
    "\n",
    "frutas = [\"maça\", \"uva\", \"melancia\"]\n",
    "\n",
    "for x in frutas:\n",
    "    if x == \"uva\":\n",
    "        break\n",
    "    print(x)\n"
   ]
  },
  {
   "cell_type": "code",
   "execution_count": null,
   "metadata": {},
   "outputs": [],
   "source": [
    "#continue\n",
    "\n",
    "frutas = [\"maça\", \"uva\", \"melancia\"]\n",
    "\n",
    "for x in frutas:\n",
    "  if x == \"uva\":\n",
    "    break\n",
    "  print(\"\")\n",
    "  print(\"A Fruta \")\n",
    "  print(x)\n",
    "  print(\" é saudável!\")"
   ]
  },
  {
   "cell_type": "code",
   "execution_count": null,
   "metadata": {},
   "outputs": [],
   "source": [
    "#range\n",
    "\n",
    "for x in range(10):\n",
    "  print(x)"
   ]
  },
  {
   "cell_type": "code",
   "execution_count": null,
   "metadata": {},
   "outputs": [],
   "source": [
    "#range inicio-fim\n",
    "\n",
    "for x in range(2, 6):\n",
    "  print(x)"
   ]
  },
  {
   "cell_type": "code",
   "execution_count": null,
   "metadata": {},
   "outputs": [],
   "source": [
    "#range incremento\n",
    "\n",
    "for x in range(0, 11, 2):\n",
    "  print(x)"
   ]
  },
  {
   "cell_type": "code",
   "execution_count": null,
   "metadata": {},
   "outputs": [],
   "source": [
    "#Nested Loop - Loop aninhado\n",
    "\n",
    "adj = [\"vermelha\", \"grande\", \"saborosa\"]\n",
    "frutas = [\"maça\", \"melancia\", \"cereja\"]\n",
    "\n",
    "for x in adj:\n",
    "  for y in frutas:\n",
    "    print(x, y)"
   ]
  }
 ],
 "metadata": {
  "kernelspec": {
   "display_name": "Python 3",
   "language": "python",
   "name": "python3"
  },
  "language_info": {
   "codemirror_mode": {
    "name": "ipython",
    "version": 3
   },
   "file_extension": ".py",
   "mimetype": "text/x-python",
   "name": "python",
   "nbconvert_exporter": "python",
   "pygments_lexer": "ipython3",
   "version": "3.11.2"
  },
  "orig_nbformat": 4
 },
 "nbformat": 4,
 "nbformat_minor": 2
}
