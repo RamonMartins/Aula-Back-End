{
 "cells": [
  {
   "cell_type": "code",
   "execution_count": null,
   "metadata": {},
   "outputs": [],
   "source": [
    "# Considere um módulo como sendo o mesmo que uma biblioteca de código.\n",
    "# Um arquivo contendo um conjunto de funções que você deseja incluir em seu aplicativo.\n",
    "# Para criar um módulo basta salvar o código que você deseja em um arquivo com a extensão de arquivo .py\n",
    "# Agora podemos usar o módulo que acabamos de criar, usando a instrução de importação\n",
    "# Importe o módulo chamado meuModulo e chame a função de saudações\n",
    "# Nota: Ao usar uma função de um módulo, use a sintaxe: nome_modulo.nome_função."
   ]
  },
  {
   "cell_type": "code",
   "execution_count": null,
   "metadata": {},
   "outputs": [],
   "source": [
    "import meuModulo\n",
    "meuModulo.saudações(\"Ramon\")"
   ]
  },
  {
   "cell_type": "code",
   "execution_count": null,
   "metadata": {},
   "outputs": [],
   "source": [
    "import api.meuModulo\n",
    "api.meuModulo.saudações(\"Ramon\")"
   ]
  },
  {
   "cell_type": "code",
   "execution_count": null,
   "metadata": {},
   "outputs": [],
   "source": [
    "import api.meuModulo\n",
    "\n",
    "a = api.meuModulo.pessoa1[\"idade\"]\n",
    "print(a)"
   ]
  },
  {
   "cell_type": "code",
   "execution_count": null,
   "metadata": {},
   "outputs": [],
   "source": [
    "import api.meuModulo as mo\n",
    "a = mo.pessoa1[\"idade\"]\n",
    "print(a)"
   ]
  },
  {
   "cell_type": "code",
   "execution_count": null,
   "metadata": {},
   "outputs": [],
   "source": [
    "from api.meuModulo import pessoa1\n",
    "\n",
    "print (pessoa1[\"idade\"])"
   ]
  }
 ],
 "metadata": {
  "kernelspec": {
   "display_name": "Python 3",
   "language": "python",
   "name": "python3"
  },
  "language_info": {
   "name": "python",
   "version": "3.11.2"
  },
  "orig_nbformat": 4
 },
 "nbformat": 4,
 "nbformat_minor": 2
}
