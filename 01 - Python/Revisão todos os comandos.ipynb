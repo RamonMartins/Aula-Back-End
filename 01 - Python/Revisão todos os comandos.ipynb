{
 "cells": [
  {
   "cell_type": "code",
   "execution_count": null,
   "metadata": {},
   "outputs": [],
   "source": [
    "# print simples\n",
    "print(\"Olá mundo\")\n",
    "\n",
    "# variáveis\n",
    "inteiro = 123\n",
    "texto = \"Ramon Ferreira\"\n",
    "real = 10.5\n",
    "boleano = True\n",
    "\n",
    "# print formatado\n",
    "print(f\"Olá {texto}, você tem {inteiro} anos\")"
   ]
  },
  {
   "cell_type": "code",
   "execution_count": 10,
   "metadata": {},
   "outputs": [
    {
     "name": "stdout",
     "output_type": "stream",
     "text": [
      "4\n"
     ]
    }
   ],
   "source": [
    "# Cálculo matemático\n",
    "\n",
    "soma = 1 + 1\n",
    "subtracao = 2 - 1\n",
    "multiplicacao = 2 * 7\n",
    "divisao = 10 / 2\n",
    "divisao_inteira = 10 // 3\n",
    "modulo = 10 % 2\n",
    "exponenciacao = 2 ** 2\n",
    "print(exponenciacao)"
   ]
  },
  {
   "cell_type": "code",
   "execution_count": null,
   "metadata": {},
   "outputs": [],
   "source": [
    "a = 10\n",
    "b = 20\n",
    "\n",
    "# Operadores relacionais\n",
    "\n",
    "print(a==b) # a \"é igual a\" b?\n",
    "print(a>b) # a \"é maior que\" b?\n",
    "print(a<b) # a \"é menor que\" b?\n",
    "print(a!=b) # a \"é diferente a\" b?\n",
    "print(a>=b) # a \"é maior ou igual que\" b?\n",
    "print(a<=b) # a \"é menor ou igual que\" b?\n",
    "\n",
    "# Operadores lógicos\n",
    "\n",
    "print(a==b and 2*a>b) # a \"é igual a\" b \"e\" 2*a \"é maior que\" b?\n",
    "print(a==b or 2*a>b) # a \"é igual a\" b \"ou\" 2*a \"é maior que\" b?\n",
    "print(not a>b) # a \"NÃO é maior que\" b?"
   ]
  },
  {
   "cell_type": "code",
   "execution_count": null,
   "metadata": {},
   "outputs": [],
   "source": [
    "# Conversão de variáveis\n",
    "\n",
    "texto = str(123)\n",
    "print(type(texto))\n",
    "\n",
    "inteiro = int(texto)\n",
    "print(type(inteiro))\n",
    "\n",
    "real = float(\"12.3\")\n",
    "print(type(real))"
   ]
  },
  {
   "cell_type": "code",
   "execution_count": null,
   "metadata": {},
   "outputs": [],
   "source": [
    "# Entrada de dados\n",
    "nome = input(\"Digite seu nome: \") # por padrão o input trás texto\n",
    "idade = int(input(\"Digite a sua idade: \")) # temos que converter a idade que foi passada em texto para inteiro\n",
    "nota = int(input(\"Digite sua Nota: \"))\n",
    "\n",
    "# Condicionais\n",
    "idade = 18\n",
    "if idade >= 18:\n",
    "  print(\"De maior\")\n",
    "\n",
    "nota = 6\n",
    "if nota >= 7:\n",
    "  print(\"Aprovado\")\n",
    "else:\n",
    "  print(\"Reprovado\")\n",
    "\n",
    "media = 7\n",
    "if media==10:\n",
    "  print(\"Aprovado e laureado\")\n",
    "elif media>=9 and media<10:\n",
    "  print(\"Aprovado com honra ao mérito\")\n",
    "elif media>=7:\n",
    "  print(\"Aprovado\")\n",
    "elif media>=6:\n",
    "  print(\"Prova final\")\n",
    "elif media>=4:\n",
    "  print(\"Recuperação\")\n",
    "else:\n",
    "  print(\"Reprovado\")"
   ]
  },
  {
   "cell_type": "code",
   "execution_count": 16,
   "metadata": {},
   "outputs": [
    {
     "name": "stdout",
     "output_type": "stream",
     "text": [
      "R$ 154.990,00\n"
     ]
    }
   ],
   "source": [
    "marca = \"toyota\"\n",
    "modelo = \"corolla\"\n",
    "\n",
    "if marca == \"toyota\":\n",
    "  if modelo==\"corolla\":\n",
    "    print(\"R$ 154.990,00\")\n",
    "  elif modelo==\"hilux\":\n",
    "    print(\"R$ 273.090,00\")\n",
    "  else:\n",
    "    print(\"Modelo não encontrado\")\n",
    "elif marca == \"honda\":\n",
    "  if modelo==\"civic\":\n",
    "    print(\"R$ 244.900,00\")\n",
    "  elif modelo==\"hrv\":\n",
    "    print(\"R$ 194.800,00\")\n",
    "  else:\n",
    "    print(\"Modelo não encontrado\")\n",
    "elif marca == \"volkswagen\":\n",
    "  if modelo==\"gol\":\n",
    "    print(\"R$ 75.490,00\")\n",
    "  elif modelo==\"polo\":\n",
    "    print(\"R$ 95.990,00\")\n",
    "  else:\n",
    "    print(\"Modelo não encontrado\")\n",
    "elif marca == \"fiat\":\n",
    "  if modelo==\"argo\":\n",
    "    print(\"R$ 79.790,00\")\n",
    "  elif modelo==\"hilux\":\n",
    "    print(\"R$ 99.990,00\")\n",
    "  else:\n",
    "    print(\"Modelo não encontrado\")\n",
    "else:\n",
    "  print(\"Não existe esta marca\")"
   ]
  },
  {
   "cell_type": "code",
   "execution_count": null,
   "metadata": {},
   "outputs": [],
   "source": [
    "# While\n",
    "x = 1\n",
    "while x <= 10:\n",
    "  print(x)\n",
    "  x = x + 1 # ou X += 1\n",
    "  x += 1\n"
   ]
  },
  {
   "cell_type": "code",
   "execution_count": 18,
   "metadata": {},
   "outputs": [
    {
     "name": "stdout",
     "output_type": "stream",
     "text": [
      "O somatório total dos valores é de: 52\n"
     ]
    }
   ],
   "source": [
    "\n",
    "# Acumulador\n",
    "somatorio = 0\n",
    "contador = 1\n",
    "while contador <= 10:\n",
    "  valor = int(input(\"Digite um valor\"))\n",
    "  somatorio = somatorio + valor\n",
    "  contador = contador + 1\n",
    "print(f\"O somatório total dos valores é de: {somatorio}\")\n"
   ]
  },
  {
   "cell_type": "code",
   "execution_count": null,
   "metadata": {},
   "outputs": [],
   "source": [
    "\n",
    "# Interrupção\n",
    "somatorio = 0\n",
    "contador = 1\n",
    "while contador <= 10:\n",
    "  valor = int(input(\"Digite um valor\"))\n",
    "  if valor == 0:\n",
    "    break\n",
    "  somatorio = somatorio + valor\n",
    "  contador = contador + 1\n",
    "print(f\"O somatório total dos valores é de: {somatorio}\")\n"
   ]
  },
  {
   "cell_type": "code",
   "execution_count": null,
   "metadata": {},
   "outputs": [],
   "source": [
    "\n",
    "# Repetição aninhada\n",
    "x = 1\n",
    "while x <= 10:\n",
    "  print(f\"Tabuada do {x}\")\n",
    "  y = 1\n",
    "  while y <= 10:\n",
    "    print(f\"{x} * {y} = {x*y}\")\n",
    "    y = y+1\n",
    "  x = x+1\n"
   ]
  },
  {
   "cell_type": "code",
   "execution_count": null,
   "metadata": {},
   "outputs": [],
   "source": [
    "\n",
    "# For simples\n",
    "for x in [1, 2, 3]:\n",
    "  print(x)\n"
   ]
  },
  {
   "cell_type": "code",
   "execution_count": null,
   "metadata": {},
   "outputs": [],
   "source": [
    "\n",
    "# For usando range - 1 a 10\n",
    "for x in range(1, 11):\n",
    "  print(x)\n"
   ]
  },
  {
   "cell_type": "code",
   "execution_count": 27,
   "metadata": {},
   "outputs": [],
   "source": [
    "\n",
    "# For usando range invertigo - 10 a 1\n",
    "for x in range(10, 0, -1):\n",
    "  print(x)"
   ]
  },
  {
   "cell_type": "code",
   "execution_count": null,
   "metadata": {},
   "outputs": [],
   "source": [
    "# Lista\n",
    "lista = [1, 2, 3]\n",
    "lista_nomes = [\"ramon\", \"jose\", \"maria\"]\n",
    "\n",
    "# Como apresentar uma lista inteira\n",
    "print(lista)\n"
   ]
  },
  {
   "cell_type": "code",
   "execution_count": null,
   "metadata": {},
   "outputs": [],
   "source": [
    "\n",
    "# Como setar apenas um valor da lista\n",
    "lista = [1, 2, 3]\n",
    "print(lista[0]) # toda lista começa da posição 0\n",
    "print(lista[1])\n",
    "print(lista[2]) # tamanho máximo da lista que criamos na linha 50\n"
   ]
  },
  {
   "cell_type": "code",
   "execution_count": null,
   "metadata": {},
   "outputs": [],
   "source": [
    "\n",
    "# For em uma lista\n",
    "lista_nomes = [\"ramon\", \"jose\", \"maria\"]\n",
    "for nome in lista_nomes:\n",
    "  print(nome)\n"
   ]
  },
  {
   "cell_type": "code",
   "execution_count": null,
   "metadata": {},
   "outputs": [],
   "source": [
    "\n",
    "# Como alterar um valor da lista\n",
    "lista_nomes = [\"artur\", \"jose\", \"maria\"]\n",
    "print(lista_nomes)\n",
    "\n",
    "lista_nomes[2] = \"josefa\"\n",
    "print(lista_nomes)"
   ]
  },
  {
   "cell_type": "code",
   "execution_count": null,
   "metadata": {},
   "outputs": [],
   "source": [
    "\n",
    "# Saber o tamanho da lista\n",
    "lista_nomes = [\"artur\", \"jose\", \"maria\"]\n",
    "print(len(lista_nomes))\n"
   ]
  },
  {
   "cell_type": "code",
   "execution_count": null,
   "metadata": {},
   "outputs": [],
   "source": [
    "\n",
    "# Como adicionar elementos na lista\n",
    "lista_nomes = [\"artur\", \"jose\", \"maria\"]\n",
    "print(lista_nomes)\n",
    "lista_nomes.append(\"Ramon\")\n",
    "print(lista_nomes)\n"
   ]
  },
  {
   "cell_type": "code",
   "execution_count": null,
   "metadata": {},
   "outputs": [],
   "source": [
    "\n",
    "# Como remover um elemento da lista\n",
    "lista_nomes = [\"artur\", \"jose\", \"maria\"]\n",
    "del lista_nomes[2]\n",
    "print(lista_nomes)\n"
   ]
  },
  {
   "cell_type": "code",
   "execution_count": null,
   "metadata": {},
   "outputs": [],
   "source": [
    "\n",
    "# Matriz (lista dentro de uma lista)\n",
    "matriz = [[1, 2, 3],\n",
    "          [4, 5, 6],\n",
    "          [7, 8, 9]]\n",
    "\n",
    "# Imprimindo a linha 0 = [1, 2, 3]\n",
    "print(matriz[0])\n",
    "\n",
    "# Imprimindo o valor 1 = \"2\" da linha 0 = [1, 2, 3]\n",
    "print(matriz[1][0])\n",
    "\n",
    "# Exemplo de listas\n",
    "carrinho_de_compras = []\n",
    "\n",
    "# [nome do produto, quantidade, valor unitário]\n",
    "produto1 = [\"Maçã\", 2, 5.5]\n",
    "carrinho_de_compras.append(produto1) # Adicionando o produto 1 no carrinho\n",
    "\n",
    "produto2 = [\"Coca-cola\", 1, 7.5]\n",
    "carrinho_de_compras.append(produto2) # Adicionando o produto 2 no carrinho\n",
    "\n",
    "produto3 = [\"Biscoito\", 3, 3.5]\n",
    "carrinho_de_compras.append(produto3) # Adicionando o produto 3 no carrinho\n",
    "\n",
    "print(f\"Seu carrinho de compras é: {carrinho_de_compras}\")"
   ]
  }
 ],
 "metadata": {
  "kernelspec": {
   "display_name": "Python 3",
   "language": "python",
   "name": "python3"
  },
  "language_info": {
   "codemirror_mode": {
    "name": "ipython",
    "version": 3
   },
   "file_extension": ".py",
   "mimetype": "text/x-python",
   "name": "python",
   "nbconvert_exporter": "python",
   "pygments_lexer": "ipython3",
   "version": "3.11.2"
  },
  "orig_nbformat": 4
 },
 "nbformat": 4,
 "nbformat_minor": 2
}
