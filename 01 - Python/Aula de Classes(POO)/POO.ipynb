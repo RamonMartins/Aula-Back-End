{
 "cells": [
  {
   "cell_type": "code",
   "execution_count": 6,
   "metadata": {},
   "outputs": [
    {
     "name": "stdout",
     "output_type": "stream",
     "text": [
      "Este é um carro.\n"
     ]
    }
   ],
   "source": [
    "class Vehicle:\n",
    "    def describe(self):\n",
    "        print(\"Este é um veículo.\")\n",
    "\n",
    "class Car(Vehicle):\n",
    "    def describe(self):\n",
    "        print(\"Este é um carro.\")\n",
    "\n",
    "car = Car()\n",
    "car.describe()"
   ]
  },
  {
   "cell_type": "code",
   "execution_count": null,
   "metadata": {},
   "outputs": [],
   "source": [
    "class Pessoa:\n",
    "  def __init__(self, nome, idade, altura):\n",
    "    self.nome = nome\n",
    "    self.idade = idade\n",
    "    self.altura = altura\n",
    "\n",
    "  def ver_nome(self):\n",
    "    print(f\"Meu nome é {self.nome}\")\n",
    "\n",
    "  def falar(self, texto):\n",
    "    print(f\"{self.nome}: {texto}\")\n",
    "\n",
    "  def alterar_nome(self, novo_nome):\n",
    "    self.nome = novo_nome\n",
    "\n",
    "# Instancia um objeto da Classe \"Pessoa\"\n",
    "ramon = Pessoa(nome='Ramon', idade=29, altura=1.78)\n",
    "\n",
    "# Chama os métodos de \"Pessoa\"\n",
    "ramon.ver_nome()\n",
    "ramon.falar('Fala Siô')\n",
    "ramon.alterar_nome(\"Artur\")\n",
    "ramon.ver_nome()\n",
    "ramon.falar('Fala Gênio')"
   ]
  },
  {
   "cell_type": "code",
   "execution_count": null,
   "metadata": {},
   "outputs": [],
   "source": [
    "class Carro:\n",
    "    def __init__(self, modelo, ano, marca):\n",
    "        self.carro_modelo = modelo\n",
    "        self.carro_ano = ano\n",
    "        self.carro_marca = marca\n",
    "\n",
    "    def ver_marca(self):\n",
    "        print(f\"A marca é {self.carro_marca}\")\n",
    "\n",
    "mustang = Carro(\"Mustang\", 1974, \"Ford\")\n",
    "\n",
    "mustang.ver_marca()"
   ]
  },
  {
   "cell_type": "code",
   "execution_count": null,
   "metadata": {},
   "outputs": [],
   "source": [
    "### Herança em Classes\n",
    "    # Herdando de uma classe pai\n",
    "\n",
    "class Pessoa:\n",
    "  def __init__(self, priNome, ultNome):\n",
    "    self.primeiro_nome = priNome\n",
    "    self.ultimo_nome = ultNome\n",
    "\n",
    "  def printNome(self):\n",
    "    print(self.primeiro_nome, self.ultimo_nome)\n",
    "\n",
    "class Estudante(Pessoa):\n",
    "  pass\n",
    "\n",
    "class Trabalhador(Pessoa):\n",
    "  pass\n",
    "\n",
    "pessoa1 = Estudante(\"Lucas\", \"Silva\")\n",
    "pessoa1.printNome()\n",
    "pessoa2 = Trabalhador(\"Mateus\", \"Sousa\")\n",
    "pessoa2.printNome()"
   ]
  },
  {
   "cell_type": "code",
   "execution_count": 13,
   "metadata": {},
   "outputs": [
    {
     "name": "stdout",
     "output_type": "stream",
     "text": [
      "Bem Vindo Lucas Silva da classe do ano de 2019\n"
     ]
    }
   ],
   "source": [
    "### Herança em Classes\n",
    "    # Herdando de uma classe pai e adicionando nova propriedade\n",
    "\n",
    "class Pessoa:\n",
    "  def __init__(self, priNome, ultNome):\n",
    "    self.primeiro_nome = priNome\n",
    "    self.ultimo_nome = ultNome\n",
    "\n",
    "  def printNome(self):\n",
    "    print(self.primeiro_nome, self.ultimo_nome)\n",
    "\n",
    "class Estudante(Pessoa):\n",
    "  def __init__(self, priNome, ultNome, ano):\n",
    "    super().__init__(priNome, ultNome)\n",
    "    self.ano_graduacao = ano\n",
    "\n",
    "  def bemVindo(self):\n",
    "    print(\"Bem Vindo\", self.primeiro_nome, self.ultimo_nome, \"da classe do ano de\", self.ano_graduacao)\n",
    "\n",
    "x = Estudante(\"Lucas\", \"Silva\", 2019)\n",
    "x.bemVindo()"
   ]
  }
 ],
 "metadata": {
  "kernelspec": {
   "display_name": "Python 3",
   "language": "python",
   "name": "python3"
  },
  "language_info": {
   "codemirror_mode": {
    "name": "ipython",
    "version": 3
   },
   "file_extension": ".py",
   "mimetype": "text/x-python",
   "name": "python",
   "nbconvert_exporter": "python",
   "pygments_lexer": "ipython3",
   "version": "3.11.2"
  },
  "orig_nbformat": 4
 },
 "nbformat": 4,
 "nbformat_minor": 2
}
